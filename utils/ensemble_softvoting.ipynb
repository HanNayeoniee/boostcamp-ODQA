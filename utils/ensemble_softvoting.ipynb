{
 "cells": [
  {
   "cell_type": "markdown",
   "id": "6147c7f2-0bf2-4a47-bb09-c860bbf50fa7",
   "metadata": {},
   "source": [
    "## 라이브러리"
   ]
  },
  {
   "cell_type": "code",
   "execution_count": 5,
   "id": "c3b5b76c-e380-4728-964f-cb0ccf7a7472",
   "metadata": {},
   "outputs": [],
   "source": [
    "import os\n",
    "import json\n",
    "from collections import defaultdict,Counter"
   ]
  },
  {
   "cell_type": "markdown",
   "id": "64f0fccf-f90a-45a4-8e3c-0c55d295de77",
   "metadata": {},
   "source": [
    "## [Korquad](https://korquad.github.io/KorQuad%201.0/) evaluate.py의 후처리 함수 -> 사용하려면 밑의 @@@ 부분 주석 해제"
   ]
  },
  {
   "cell_type": "code",
   "execution_count": 6,
   "id": "ab48705d-e9d3-453d-904c-45ad070322b4",
   "metadata": {},
   "outputs": [],
   "source": [
    "import re\n",
    "import string\n",
    "def normalize_answer(s):    \n",
    "    def remove_(text):\n",
    "        ''' 불필요한 기호 제거 '''\n",
    "        text = re.sub(\"'\", \" \", text)\n",
    "        text = re.sub('\"', \" \", text)\n",
    "        text = re.sub('《', \" \", text)\n",
    "        text = re.sub('》', \" \", text)\n",
    "        text = re.sub('<', \" \", text)\n",
    "        text = re.sub('>', \" \", text) \n",
    "        text = re.sub('〈', \" \", text)\n",
    "        text = re.sub('〉', \" \", text)   \n",
    "        text = re.sub(\"\\(\", \" \", text)\n",
    "        text = re.sub(\"\\)\", \" \", text)\n",
    "        text = re.sub(\"‘\", \" \", text)\n",
    "        text = re.sub(\"’\", \" \", text)      \n",
    "        return text\n",
    "\n",
    "    def white_space_fix(text):\n",
    "        return ' '.join(text.split())\n",
    "\n",
    "    def remove_punc(text):\n",
    "        exclude = set(string.punctuation)\n",
    "        return ''.join(ch for ch in text if ch not in exclude)\n",
    "\n",
    "    def lower(text):\n",
    "        return text.lower()\n",
    "\n",
    "    return white_space_fix(remove_punc(lower(remove_(s))))"
   ]
  },
  {
   "cell_type": "code",
   "execution_count": 7,
   "id": "600dabd7-e45a-482d-9013-55f6ebdf275a",
   "metadata": {
    "tags": []
   },
   "outputs": [],
   "source": [
    "file_path ='./nbest'                                  #소프트보팅 할 nbest_predictions.json들 있는 경로\n",
    "n=20                                                  #nbest prediction -> 20개로저장(utils_qa.py의 default nbest_size)\n",
    "json_file_path = []\n",
    "json_files=[]\n",
    "for json_path in os.listdir(file_path):\n",
    "    if json_path.endswith('.json'):                    #checkpoint 및 하위 폴더들 ignore (KLUE대회 태일님 앙상블 참고)\n",
    "        json_file_path.append(json_path)\n",
    "\n",
    "for file in json_file_path:\n",
    "    fp=os.path.join(file_path,file)\n",
    "    with open(fp,\"r\",encoding='utf-8') as json_file:\n",
    "        json_data=json.load(json_file)\n",
    "        json_files.append(json_data)"
   ]
  },
  {
   "cell_type": "code",
   "execution_count": 8,
   "id": "4fcd8974-976b-4b00-a1ef-56fa5a681b67",
   "metadata": {},
   "outputs": [],
   "source": [
    "key_list=list(json_files[0].keys())                   # predictions.json의 key값들 설정\n",
    "bin=defaultdict(list)                                 # 확률값들을 담을 dict생성-> value : list\n",
    "answer_dict=defaultdict(list)                         # 최종 답변을 넣을 dict 생성 -> value : list\n",
    "\n",
    "for i in range(len(key_list)):                        #defaultdict : key만 선언하면 value는 '' 빈 값\n",
    "    bin[key_list[i]]                                 \n",
    "    answer_dict[key_list[i]]\n",
    "\n",
    "for json_file in json_files:                          # N개의 nbest_predictions 파일들\n",
    "    for kl in key_list:                               # 600개의 key\n",
    "        for i in range(n):                            # nbest_size : 20                       \n",
    "            bin[kl].append((json_file[kl][i]['text'],json_file[kl][i]['probability']))                        \n",
    "            # bin[kl].append((normalize_answer(json_file[kl][i]['text']),json_file[kl][i]['probability']))    #@@@@@@후처리 함수 적용@@@@@\n",
    "            \n",
    "                #@@@@@@@@후처리 함수 적용 후 소프트보팅 하려면 위 코드 주석해제 후 바로위 코드 주석처리 (위의 korquad 후처리 함수) @@@@@@"
   ]
  },
  {
   "cell_type": "code",
   "execution_count": 9,
   "id": "a3f45a28-28f4-47dc-915d-46505f6d5730",
   "metadata": {},
   "outputs": [],
   "source": [
    "for kl in key_list:                                   # 600개의 키\n",
    "    answer_hubo={}\n",
    "    for i in range(len(bin[kl])):                  \n",
    "        if bin[kl][i][0] not in answer_hubo.keys():   # 빈 객체에서 없다면 key 추가\n",
    "            answer_hubo[bin[kl][i][0]]=bin[kl][i][1]\n",
    "        else:\n",
    "            answer_hubo[bin[kl][i][0]]+=bin[kl][i][1] # 있다면 확률값 더하기 -> 이렇게 하지 않으면 dictionary는 자동으로 중복제거(set)\n",
    "    max_answer=max(answer_hubo.keys(),key= lambda prob : answer_hubo[prob])     #최대 확률값을 답변으로\n",
    "    answer_dict[kl]=max_answer"
   ]
  },
  {
   "cell_type": "code",
   "execution_count": 10,
   "id": "cc48902c-5b23-4907-895e-1ec52f6a16d5",
   "metadata": {},
   "outputs": [],
   "source": [
    "new_nbest_json_path = \"nbest_ensemble.json\"           # nbest_ensemble.json 저장\n",
    "\n",
    "with open(new_nbest_json_path, 'w', encoding='utf-8') as file:\n",
    "    json.dump(answer_dict, file)"
   ]
  }
 ],
 "metadata": {
  "kernelspec": {
   "display_name": "Python 3",
   "language": "python",
   "name": "python3"
  },
  "language_info": {
   "codemirror_mode": {
    "name": "ipython",
    "version": 3
   },
   "file_extension": ".py",
   "mimetype": "text/x-python",
   "name": "python",
   "nbconvert_exporter": "python",
   "pygments_lexer": "ipython3",
   "version": "3.8.5"
  }
 },
 "nbformat": 4,
 "nbformat_minor": 5
}
