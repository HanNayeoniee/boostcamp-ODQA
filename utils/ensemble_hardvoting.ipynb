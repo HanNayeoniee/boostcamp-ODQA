{
 "cells": [
  {
   "cell_type": "markdown",
   "id": "6147c7f2-0bf2-4a47-bb09-c860bbf50fa7",
   "metadata": {},
   "source": [
    "## 라이브러리"
   ]
  },
  {
   "cell_type": "code",
   "execution_count": 1,
   "id": "c3b5b76c-e380-4728-964f-cb0ccf7a7472",
   "metadata": {},
   "outputs": [],
   "source": [
    "import os\n",
    "import json\n",
    "from collections import defaultdict,Counter"
   ]
  },
  {
   "cell_type": "markdown",
   "id": "db008422-0697-42da-9c99-f8fc9be7bbd1",
   "metadata": {},
   "source": [
    "## [Korquad](https://korquad.github.io/KorQuad%201.0/) evaluate.py의 후처리 함수 -> 사용하려면 밑의 @@@ 부분 주석 해제"
   ]
  },
  {
   "cell_type": "code",
   "execution_count": 2,
   "id": "44e3473d-7561-49ca-bebd-f44b2707e0b6",
   "metadata": {},
   "outputs": [],
   "source": [
    "import re\n",
    "import string\n",
    "def normalize_answer(s):    \n",
    "    def remove_(text):\n",
    "        ''' 불필요한 기호 제거 '''\n",
    "        text = re.sub(\"'\", \" \", text)\n",
    "        text = re.sub('\"', \" \", text)\n",
    "        text = re.sub('《', \" \", text)\n",
    "        text = re.sub('》', \" \", text)\n",
    "        text = re.sub('<', \" \", text)\n",
    "        text = re.sub('>', \" \", text) \n",
    "        text = re.sub('〈', \" \", text)\n",
    "        text = re.sub('〉', \" \", text)   \n",
    "        text = re.sub(\"\\(\", \" \", text)\n",
    "        text = re.sub(\"\\)\", \" \", text)\n",
    "        text = re.sub(\"‘\", \" \", text)\n",
    "        text = re.sub(\"’\", \" \", text)      \n",
    "        return text\n",
    "\n",
    "    def white_space_fix(text):\n",
    "        return ' '.join(text.split())\n",
    "\n",
    "    def remove_punc(text):\n",
    "        exclude = set(string.punctuation)\n",
    "        return ''.join(ch for ch in text if ch not in exclude)\n",
    "\n",
    "    def lower(text):\n",
    "        return text.lower()\n",
    "\n",
    "    return white_space_fix(remove_punc(lower(remove_(s))))"
   ]
  },
  {
   "cell_type": "code",
   "execution_count": 3,
   "id": "fef7b234-b2c6-4509-a371-f9ce0e9dabf3",
   "metadata": {},
   "outputs": [],
   "source": [
    "predict_bin_path = \"input/level2-mrc-level2-nlp-09/outputs/SOTAandTestJsoncheck72600/predictions.json\"\n",
    "                                                                         #후처리 함수 적용시에 뼈대가 될 predictions.json -> 아무파일 가능\n",
    "with open(predict_bin_path, \"r\",encoding='utf-8') as f:\n",
    "    predict_bin = json.load(f)\n",
    "    \n",
    "key_list=list(predict_bin.keys())"
   ]
  },
  {
   "cell_type": "code",
   "execution_count": 4,
   "id": "564af6f5-f44b-4b09-9d01-916618810a00",
   "metadata": {},
   "outputs": [],
   "source": [
    "file_path ='./ensemble6'                                                 #하드보팅 할 predictions.json들 있는 경로\n",
    "json_file_path = []\n",
    "json_files=[]\n",
    "for json_path in os.listdir(file_path):\n",
    "    if json_path.endswith('.json'):                                      #checkpoint 및 하위 폴더들 ignore (KLUE대회 태일님 앙상블 참고) \n",
    "        json_file_path.append(json_path)\n",
    "\n",
    "for file in json_file_path:\n",
    "    fp=os.path.join(file_path,file)\n",
    "    with open(fp,\"r\",encoding='utf-8') as json_file:\n",
    "        json_data=json.load(json_file)\n",
    "        # for kl in key_list:                                   #@@@@@@@@후처리 함수 적용 후 하드보팅 하려면 주석해제 (위의 korquad 후처리 함수) @@@@@@\n",
    "        #     json_data[kl]=normalize_answer(json_data[kl])\n",
    "        json_files.append(json_data)"
   ]
  },
  {
   "cell_type": "code",
   "execution_count": 5,
   "id": "4663d86c-c16e-45fb-8e1a-56d8f627e9a9",
   "metadata": {},
   "outputs": [],
   "source": [
    "bin=defaultdict(list)                                                   #key값들이 있는 뼈대에 value들은 list로\n",
    "\n",
    "for i in range(len(key_list)):                                          #defaultdict : key만 선언하면 value는 '' 빈 값\n",
    "    bin[key_list[i]]\n",
    "    \n",
    "for json_file in json_files:                                            #하드보팅 할 값들을  list안에 전부 넣기\n",
    "    for kl in key_list:\n",
    "        bin[kl].append(json_file[kl])\n",
    "\n",
    "counter=[]\n",
    "for key in bin.keys():                                                  #counter 객체로 가장 빈도 수 높은 답변\n",
    "    counter.append(Counter(bin[key]).most_common()[0][0])\n",
    "    \n",
    "for i in range(len(counter)):                                           #선언한 빈 객체에 빈도 수 높은 답변 채우기\n",
    "    predict_bin[key_list[i]]=counter[i]"
   ]
  },
  {
   "cell_type": "code",
   "execution_count": 6,
   "id": "b239a41b-a96f-4a42-a083-1e3df4414698",
   "metadata": {},
   "outputs": [],
   "source": [
    "new_json_path = \"ensemble.json\"                                        # 하드보팅 앙상블 predictions.json 파일 저장\n",
    "\n",
    "with open(new_json_path, 'w', encoding='utf-8') as file:\n",
    "    json.dump(predict_bin, file)"
   ]
  },
  {
   "cell_type": "markdown",
   "id": "193cfff7-277c-4c7c-88e5-e13b95f9dce5",
   "metadata": {},
   "source": [
    "# 추가\n",
    "- most_common[0][0] -> 가장 많이 나오는 것으로 답변 저장 -> 동률의 경우 확률을 고려하지 못함 -> 추후에 nbest_predictions.json을 이용한 soft voting으로 해결\n",
    "- [깃허브 프로젝트 참고](https://github.com/boostcampaitech3/level2-mrc-level2-nlp-09/issues/45)"
   ]
  }
 ],
 "metadata": {
  "kernelspec": {
   "display_name": "Python 3",
   "language": "python",
   "name": "python3"
  },
  "language_info": {
   "codemirror_mode": {
    "name": "ipython",
    "version": 3
   },
   "file_extension": ".py",
   "mimetype": "text/x-python",
   "name": "python",
   "nbconvert_exporter": "python",
   "pygments_lexer": "ipython3",
   "version": "3.8.5"
  }
 },
 "nbformat": 4,
 "nbformat_minor": 5
}
