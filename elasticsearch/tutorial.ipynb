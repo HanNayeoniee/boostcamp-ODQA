{
 "cells": [
  {
   "cell_type": "markdown",
   "metadata": {},
   "source": [
    "# Elasticsearch\n",
    "엘라스틱서치의 기본 원리와 사용법에 대해서 배웁니다.\n",
    "\n",
    "[thejungwon/search-engine-tutorial](https://github.com/thejungwon/search-engine-tutorial)의 튜토리얼 일부분을 수정한 코드입니다.\n",
    "____"
   ]
  },
  {
   "cell_type": "markdown",
   "metadata": {},
   "source": [
    "## 1. Elasticsearch의 Python 라이브러리 설치\n",
    "\n",
    "- Elasticsearch를 미리 설치한 후에 진행해주세요 (노션 설치 설명 참고)"
   ]
  },
  {
   "cell_type": "code",
   "execution_count": 1,
   "metadata": {},
   "outputs": [
    {
     "name": "stdout",
     "output_type": "stream",
     "text": [
      "Collecting elasticsearch\n",
      "  Downloading elasticsearch-7.15.1-py2.py3-none-any.whl (378 kB)\n",
      "\u001b[K     |████████████████████████████████| 378 kB 21.4 MB/s eta 0:00:01\n",
      "\u001b[?25hRequirement already satisfied: certifi in /opt/conda/lib/python3.8/site-packages (from elasticsearch) (2020.12.5)\n",
      "Requirement already satisfied: urllib3<2,>=1.21.1 in /opt/conda/lib/python3.8/site-packages (from elasticsearch) (1.25.11)\n",
      "Installing collected packages: elasticsearch\n",
      "Successfully installed elasticsearch-7.15.1\n"
     ]
    }
   ],
   "source": [
    "!pip install elasticsearch"
   ]
  },
  {
   "cell_type": "code",
   "execution_count": 1,
   "metadata": {},
   "outputs": [],
   "source": [
    "import tqdm\n",
    "import json\n",
    "from pprint import pprint\n",
    "from elasticsearch import Elasticsearch"
   ]
  },
  {
   "cell_type": "code",
   "execution_count": 2,
   "metadata": {},
   "outputs": [
    {
     "name": "stdout",
     "output_type": "stream",
     "text": [
      "{\n",
      "  \"name\" : \"f867c65de115\",\n",
      "  \"cluster_name\" : \"elasticsearch\",\n",
      "  \"cluster_uuid\" : \"586snTJiQIef5XYkmM6jhw\",\n",
      "  \"version\" : {\n",
      "    \"number\" : \"7.17.3\",\n",
      "    \"build_flavor\" : \"default\",\n",
      "    \"build_type\" : \"deb\",\n",
      "    \"build_hash\" : \"5ad023604c8d7416c9eb6c0eadb62b14e766caff\",\n",
      "    \"build_date\" : \"2022-04-19T08:11:19.070913226Z\",\n",
      "    \"build_snapshot\" : false,\n",
      "    \"lucene_version\" : \"8.11.1\",\n",
      "    \"minimum_wire_compatibility_version\" : \"6.8.0\",\n",
      "    \"minimum_index_compatibility_version\" : \"6.0.0-beta1\"\n",
      "  },\n",
      "  \"tagline\" : \"You Know, for Search\"\n",
      "}\n"
     ]
    }
   ],
   "source": [
    "!curl -XGET localhost:9200"
   ]
  },
  {
   "cell_type": "markdown",
   "metadata": {},
   "source": [
    "## 2. Index 세팅\n",
    "- 한글 데이터를 다루기 때문에, 노리 형태소 분석기를 탑재합니다."
   ]
  },
  {
   "cell_type": "code",
   "execution_count": 3,
   "metadata": {},
   "outputs": [],
   "source": [
    "import pprint  \n",
    "INDEX_NAME = \"wiki-sample\"\n",
    "\n",
    "INDEX_SETTINGS = {\n",
    "    \"settings\": {\n",
    "        \"analysis\": {\n",
    "            \"filter\": {\n",
    "                \"my_shingle\": {\n",
    "                    \"type\": \"shingle\"\n",
    "                }\n",
    "            },\n",
    "            \"analyzer\": {\n",
    "                \"my_analyzer\": {\n",
    "                    \"type\": \"custom\",\n",
    "                    \"tokenizer\": \"nori_tokenizer\",\n",
    "                    \"decompound_mode\": \"mixed\",\n",
    "                    \"filter\": [\"my_shingle\"]\n",
    "                }\n",
    "            },\n",
    "            \"similairty\": {\n",
    "                \"my_similarity\": {\n",
    "                    \"type\": \"BM25\"\n",
    "                }\n",
    "            }\n",
    "        }\n",
    "    },\n",
    "\n",
    "    \"mappings\": {\n",
    "        \"properties\": {\n",
    "            \"document_text\": {\n",
    "                \"type\": \"text\",\n",
    "                \"analyzer\": \"my_analyzer\"\n",
    "            }\n",
    "        }\n",
    "    }\n",
    "}"
   ]
  },
  {
   "cell_type": "markdown",
   "metadata": {},
   "source": [
    "## 3. 문서 준비"
   ]
  },
  {
   "cell_type": "code",
   "execution_count": 6,
   "metadata": {},
   "outputs": [
    {
     "name": "stdout",
     "output_type": "stream",
     "text": [
      "60613\n",
      "<class 'dict'>\n"
     ]
    }
   ],
   "source": [
    "# 위키피디아 데이터 로드\n",
    "\n",
    "dataset_path = \"../../data/wikipedia_documents.json\"\n",
    "with open(dataset_path, \"r\") as f:\n",
    "    wiki = json.load(f)\n",
    "    \n",
    "print(len(wiki))\n",
    "print(type(wiki))"
   ]
  },
  {
   "cell_type": "code",
   "execution_count": 7,
   "metadata": {},
   "outputs": [
    {
     "data": {
      "text/plain": [
       "{'text': '이 문서는 나라 목록이며, 전 세계 206개 나라의 각 현황과 주권 승인 정보를 개요 형태로 나열하고 있다.\\n\\n이 목록은 명료화를 위해 두 부분으로 나뉘어 있다.\\n\\n# 첫 번째 부분은 바티칸 시국과 팔레스타인을 포함하여 유엔 등 국제 기구에 가입되어 국제적인 승인을 널리 받았다고 여기는 195개 나라를 나열하고 있다.\\n# 두 번째 부분은 일부 지역의 주권을 사실상 (데 팍토) 행사하고 있지만, 아직 국제적인 승인을 널리 받지 않았다고 여기는 11개 나라를 나열하고 있다.\\n\\n두 목록은 모두 가나다 순이다.\\n\\n일부 국가의 경우 국가로서의 자격에 논쟁의 여부가 있으며, 이 때문에 이러한 목록을 엮는 것은 매우 어렵고 논란이 생길 수 있는 과정이다. 이 목록을 구성하고 있는 국가를 선정하는 기준에 대한 정보는 \"포함 기준\" 단락을 통해 설명하였다. 나라에 대한 일반적인 정보는 \"국가\" 문서에서 설명하고 있다.',\n",
       " 'corpus_source': '위키피디아',\n",
       " 'url': 'TODO',\n",
       " 'domain': None,\n",
       " 'title': '나라 목록',\n",
       " 'author': None,\n",
       " 'html': None,\n",
       " 'document_id': 0}"
      ]
     },
     "execution_count": 7,
     "metadata": {},
     "output_type": "execute_result"
    }
   ],
   "source": [
    "wiki['0']"
   ]
  },
  {
   "cell_type": "code",
   "execution_count": 17,
   "metadata": {},
   "outputs": [],
   "source": [
    "# # 일부분만 삽입해보기\n",
    "\n",
    "# small_wiki = {'0': wiki['0'],\n",
    "#               '1': wiki['1'],\n",
    "#               '2': wiki['2'],\n",
    "#               '3': wiki['3'],\n",
    "#               '4': wiki['4'],\n",
    "#               '5': wiki['5'],\n",
    "#               '6': wiki['6'],\n",
    "#               '7': wiki['7'],\n",
    "#               '8': wiki['8'],\n",
    "#               '9': wiki['9'],\n",
    "#              }\n",
    "# print(len(small_wiki))\n",
    "# print(type(small_wiki))\n",
    "# pprint(small_wiki['0'])"
   ]
  },
  {
   "cell_type": "code",
   "execution_count": 9,
   "metadata": {},
   "outputs": [],
   "source": [
    "import re\n",
    "\n",
    "def preprocess(text):\n",
    "    text = re.sub(r\"\\n\", \" \", text)\n",
    "    text = re.sub(r\"\\\\n\", \" \", text)\n",
    "    text = re.sub(r\"#\", \" \", text)\n",
    "    text = re.sub(r\"[^A-Za-z0-9가-힣.?!,()~‘’“”\"\":%&《》〈〉''㈜·\\-\\'+\\s一-龥サマーン]\", \"\", text)  \n",
    "    text = re.sub(r\"\\s+\", \" \", text).strip()  # 두 개 이상의 연속된 공백을 하나로 치환\n",
    "    \n",
    "    return text"
   ]
  },
  {
   "cell_type": "code",
   "execution_count": 10,
   "metadata": {},
   "outputs": [],
   "source": [
    "wiki_contexts = list(dict.fromkeys([v[\"text\"] for v in wiki.values()]))  # text 부분만\n",
    "wiki_contexts = [preprocess(text) for text in wiki_contexts]\n",
    "wiki_articles = [\n",
    "    {\"document_text\": wiki_contexts[i]} for i in range(len(wiki_contexts))\n",
    "]"
   ]
  },
  {
   "cell_type": "code",
   "execution_count": 11,
   "metadata": {},
   "outputs": [
    {
     "data": {
      "text/plain": [
       "'이 문서는 나라 목록이며, 전 세계 206개 나라의 각 현황과 주권 승인 정보를 개요 형태로 나열하고 있다. 이 목록은 명료화를 위해 두 부분으로 나뉘어 있다. 첫 번째 부분은 바티칸 시국과 팔레스타인을 포함하여 유엔 등 국제 기구에 가입되어 국제적인 승인을 널리 받았다고 여기는 195개 나라를 나열하고 있다. 두 번째 부분은 일부 지역의 주권을 사실상 (데 팍토) 행사하고 있지만, 아직 국제적인 승인을 널리 받지 않았다고 여기는 11개 나라를 나열하고 있다. 두 목록은 모두 가나다 순이다. 일부 국가의 경우 국가로서의 자격에 논쟁의 여부가 있으며, 이 때문에 이러한 목록을 엮는 것은 매우 어렵고 논란이 생길 수 있는 과정이다. 이 목록을 구성하고 있는 국가를 선정하는 기준에 대한 정보는 포함 기준 단락을 통해 설명하였다. 나라에 대한 일반적인 정보는 국가 문서에서 설명하고 있다.'"
      ]
     },
     "execution_count": 11,
     "metadata": {},
     "output_type": "execute_result"
    }
   ],
   "source": [
    "wiki_contexts[0]"
   ]
  },
  {
   "cell_type": "markdown",
   "metadata": {},
   "source": [
    "## 4. Elastichsearch 접속"
   ]
  },
  {
   "cell_type": "code",
   "execution_count": 12,
   "metadata": {},
   "outputs": [
    {
     "name": "stdout",
     "output_type": "stream",
     "text": [
      "Elastic search ping: True\n",
      "Elastic search info:\n"
     ]
    },
    {
     "name": "stderr",
     "output_type": "stream",
     "text": [
      "/opt/conda/lib/python3.8/site-packages/elasticsearch/connection/base.py:208: ElasticsearchWarning: Elasticsearch built-in security features are not enabled. Without authentication, your cluster could be accessible to anyone. See https://www.elastic.co/guide/en/elasticsearch/reference/7.17/security-minimal-setup.html to enable security.\n",
      "  warnings.warn(message, category=ElasticsearchWarning)\n"
     ]
    },
    {
     "data": {
      "text/plain": [
       "{'name': 'f867c65de115',\n",
       " 'cluster_name': 'elasticsearch',\n",
       " 'cluster_uuid': '586snTJiQIef5XYkmM6jhw',\n",
       " 'version': {'number': '7.17.3',\n",
       "  'build_flavor': 'default',\n",
       "  'build_type': 'deb',\n",
       "  'build_hash': '5ad023604c8d7416c9eb6c0eadb62b14e766caff',\n",
       "  'build_date': '2022-04-19T08:11:19.070913226Z',\n",
       "  'build_snapshot': False,\n",
       "  'lucene_version': '8.11.1',\n",
       "  'minimum_wire_compatibility_version': '6.8.0',\n",
       "  'minimum_index_compatibility_version': '6.0.0-beta1'},\n",
       " 'tagline': 'You Know, for Search'}"
      ]
     },
     "execution_count": 12,
     "metadata": {},
     "output_type": "execute_result"
    }
   ],
   "source": [
    "try:\n",
    "    es.transport.close()\n",
    "except:\n",
    "    pass\n",
    "\n",
    "# config = {'host':'localhost', 'port':9200}\n",
    "# es = Elasticsearch([config])\n",
    "\n",
    "es = Elasticsearch()\n",
    "\n",
    "print('Elastic search ping:', es.ping())\n",
    "print('Elastic search info:')\n",
    "es.info()"
   ]
  },
  {
   "cell_type": "markdown",
   "metadata": {},
   "source": [
    "## 5. 인덱스 생성"
   ]
  },
  {
   "cell_type": "code",
   "execution_count": 14,
   "metadata": {
    "scrolled": true
   },
   "outputs": [
    {
     "data": {
      "text/plain": [
       "{'acknowledged': True, 'shards_acknowledged': True, 'index': 'wiki-sample'}"
      ]
     },
     "execution_count": 14,
     "metadata": {},
     "output_type": "execute_result"
    }
   ],
   "source": [
    "if es.indices.exists(INDEX_NAME):\n",
    "    es.indices.delete(index=INDEX_NAME)\n",
    "es.indices.create(index=INDEX_NAME, body=INDEX_SETTINGS)"
   ]
  },
  {
   "cell_type": "code",
   "execution_count": 15,
   "metadata": {},
   "outputs": [
    {
     "data": {
      "text/plain": [
       "True"
      ]
     },
     "execution_count": 15,
     "metadata": {},
     "output_type": "execute_result"
    }
   ],
   "source": [
    "es.indices.exists(\"wiki-sample\")"
   ]
  },
  {
   "cell_type": "markdown",
   "metadata": {},
   "source": [
    "## 6. 문서삽입"
   ]
  },
  {
   "cell_type": "code",
   "execution_count": 17,
   "metadata": {},
   "outputs": [
    {
     "ename": "TypeError",
     "evalue": "'module' object is not callable",
     "output_type": "error",
     "traceback": [
      "\u001b[0;31m---------------------------------------------------------------------------\u001b[0m",
      "\u001b[0;31mTypeError\u001b[0m                                 Traceback (most recent call last)",
      "Input \u001b[0;32mIn [17]\u001b[0m, in \u001b[0;36m<cell line: 3>\u001b[0;34m()\u001b[0m\n\u001b[1;32m      1\u001b[0m \u001b[38;5;66;03m# 5-10분 정도 소요됩니다.\u001b[39;00m\n\u001b[0;32m----> 3\u001b[0m \u001b[38;5;28;01mfor\u001b[39;00m i, text \u001b[38;5;129;01min\u001b[39;00m \u001b[38;5;28menumerate\u001b[39m(\u001b[43mtqdm\u001b[49m\u001b[43m(\u001b[49m\u001b[43mwiki_articles\u001b[49m\u001b[43m)\u001b[49m):\n\u001b[1;32m      4\u001b[0m     \u001b[38;5;28;01mtry\u001b[39;00m:\n\u001b[1;32m      5\u001b[0m         es\u001b[38;5;241m.\u001b[39mindex(index\u001b[38;5;241m=\u001b[39mINDEX_NAME, \u001b[38;5;28mid\u001b[39m\u001b[38;5;241m=\u001b[39mi, body\u001b[38;5;241m=\u001b[39mtext)\n",
      "\u001b[0;31mTypeError\u001b[0m: 'module' object is not callable"
     ]
    }
   ],
   "source": [
    "# 5-10분 정도 소요됩니다.\n",
    "\n",
    "for i, text in enumerate(tqdm(wiki_articles)):\n",
    "    try:\n",
    "        es.index(index=INDEX_NAME, id=i, body=text)\n",
    "    except:\n",
    "        print(f\"Unable to load document {i}.\")"
   ]
  },
  {
   "cell_type": "markdown",
   "metadata": {},
   "source": [
    "## 7. 삽입된 문서 확인"
   ]
  },
  {
   "cell_type": "code",
   "execution_count": 16,
   "metadata": {},
   "outputs": [
    {
     "ename": "NotFoundError",
     "evalue": "NotFoundError(404, '{\"_index\":\"wiki-sample\",\"_type\":\"_doc\",\"_id\":\"0\",\"found\":false}')",
     "output_type": "error",
     "traceback": [
      "\u001b[0;31m---------------------------------------------------------------------------\u001b[0m",
      "\u001b[0;31mNotFoundError\u001b[0m                             Traceback (most recent call last)",
      "Input \u001b[0;32mIn [16]\u001b[0m, in \u001b[0;36m<cell line: 1>\u001b[0;34m()\u001b[0m\n\u001b[0;32m----> 1\u001b[0m doc \u001b[38;5;241m=\u001b[39m \u001b[43mes\u001b[49m\u001b[38;5;241;43m.\u001b[39;49m\u001b[43mget\u001b[49m\u001b[43m(\u001b[49m\u001b[43mindex\u001b[49m\u001b[38;5;241;43m=\u001b[39;49m\u001b[43mINDEX_NAME\u001b[49m\u001b[43m,\u001b[49m\u001b[43m \u001b[49m\u001b[38;5;28;43mid\u001b[39;49m\u001b[38;5;241;43m=\u001b[39;49m\u001b[38;5;241;43m0\u001b[39;49m\u001b[43m)\u001b[49m\n\u001b[1;32m      2\u001b[0m pprint(doc)\n",
      "File \u001b[0;32m/opt/conda/lib/python3.8/site-packages/elasticsearch/client/utils.py:168\u001b[0m, in \u001b[0;36mquery_params.<locals>._wrapper.<locals>._wrapped\u001b[0;34m(*args, **kwargs)\u001b[0m\n\u001b[1;32m    166\u001b[0m     \u001b[38;5;28;01mif\u001b[39;00m p \u001b[38;5;129;01min\u001b[39;00m kwargs:\n\u001b[1;32m    167\u001b[0m         params[p] \u001b[38;5;241m=\u001b[39m kwargs\u001b[38;5;241m.\u001b[39mpop(p)\n\u001b[0;32m--> 168\u001b[0m \u001b[38;5;28;01mreturn\u001b[39;00m \u001b[43mfunc\u001b[49m\u001b[43m(\u001b[49m\u001b[38;5;241;43m*\u001b[39;49m\u001b[43margs\u001b[49m\u001b[43m,\u001b[49m\u001b[43m \u001b[49m\u001b[43mparams\u001b[49m\u001b[38;5;241;43m=\u001b[39;49m\u001b[43mparams\u001b[49m\u001b[43m,\u001b[49m\u001b[43m \u001b[49m\u001b[43mheaders\u001b[49m\u001b[38;5;241;43m=\u001b[39;49m\u001b[43mheaders\u001b[49m\u001b[43m,\u001b[49m\u001b[43m \u001b[49m\u001b[38;5;241;43m*\u001b[39;49m\u001b[38;5;241;43m*\u001b[39;49m\u001b[43mkwargs\u001b[49m\u001b[43m)\u001b[49m\n",
      "File \u001b[0;32m/opt/conda/lib/python3.8/site-packages/elasticsearch/client/__init__.py:1025\u001b[0m, in \u001b[0;36mElasticsearch.get\u001b[0;34m(self, index, id, doc_type, params, headers)\u001b[0m\n\u001b[1;32m   1022\u001b[0m \u001b[38;5;28;01mif\u001b[39;00m doc_type \u001b[38;5;129;01min\u001b[39;00m SKIP_IN_PATH:\n\u001b[1;32m   1023\u001b[0m     doc_type \u001b[38;5;241m=\u001b[39m \u001b[38;5;124m\"\u001b[39m\u001b[38;5;124m_doc\u001b[39m\u001b[38;5;124m\"\u001b[39m\n\u001b[0;32m-> 1025\u001b[0m \u001b[38;5;28;01mreturn\u001b[39;00m \u001b[38;5;28;43mself\u001b[39;49m\u001b[38;5;241;43m.\u001b[39;49m\u001b[43mtransport\u001b[49m\u001b[38;5;241;43m.\u001b[39;49m\u001b[43mperform_request\u001b[49m\u001b[43m(\u001b[49m\n\u001b[1;32m   1026\u001b[0m \u001b[43m    \u001b[49m\u001b[38;5;124;43m\"\u001b[39;49m\u001b[38;5;124;43mGET\u001b[39;49m\u001b[38;5;124;43m\"\u001b[39;49m\u001b[43m,\u001b[49m\u001b[43m \u001b[49m\u001b[43m_make_path\u001b[49m\u001b[43m(\u001b[49m\u001b[43mindex\u001b[49m\u001b[43m,\u001b[49m\u001b[43m \u001b[49m\u001b[43mdoc_type\u001b[49m\u001b[43m,\u001b[49m\u001b[43m \u001b[49m\u001b[38;5;28;43mid\u001b[39;49m\u001b[43m)\u001b[49m\u001b[43m,\u001b[49m\u001b[43m \u001b[49m\u001b[43mparams\u001b[49m\u001b[38;5;241;43m=\u001b[39;49m\u001b[43mparams\u001b[49m\u001b[43m,\u001b[49m\u001b[43m \u001b[49m\u001b[43mheaders\u001b[49m\u001b[38;5;241;43m=\u001b[39;49m\u001b[43mheaders\u001b[49m\n\u001b[1;32m   1027\u001b[0m \u001b[43m\u001b[49m\u001b[43m)\u001b[49m\n",
      "File \u001b[0;32m/opt/conda/lib/python3.8/site-packages/elasticsearch/transport.py:415\u001b[0m, in \u001b[0;36mTransport.perform_request\u001b[0;34m(self, method, url, headers, params, body)\u001b[0m\n\u001b[1;32m    413\u001b[0m             \u001b[38;5;28;01mraise\u001b[39;00m e\n\u001b[1;32m    414\u001b[0m     \u001b[38;5;28;01melse\u001b[39;00m:\n\u001b[0;32m--> 415\u001b[0m         \u001b[38;5;28;01mraise\u001b[39;00m e\n\u001b[1;32m    417\u001b[0m \u001b[38;5;28;01melse\u001b[39;00m:\n\u001b[1;32m    418\u001b[0m     \u001b[38;5;66;03m# connection didn't fail, confirm it's live status\u001b[39;00m\n\u001b[1;32m    419\u001b[0m     \u001b[38;5;28mself\u001b[39m\u001b[38;5;241m.\u001b[39mconnection_pool\u001b[38;5;241m.\u001b[39mmark_live(connection)\n",
      "File \u001b[0;32m/opt/conda/lib/python3.8/site-packages/elasticsearch/transport.py:381\u001b[0m, in \u001b[0;36mTransport.perform_request\u001b[0;34m(self, method, url, headers, params, body)\u001b[0m\n\u001b[1;32m    378\u001b[0m connection \u001b[38;5;241m=\u001b[39m \u001b[38;5;28mself\u001b[39m\u001b[38;5;241m.\u001b[39mget_connection()\n\u001b[1;32m    380\u001b[0m \u001b[38;5;28;01mtry\u001b[39;00m:\n\u001b[0;32m--> 381\u001b[0m     status, headers_response, data \u001b[38;5;241m=\u001b[39m \u001b[43mconnection\u001b[49m\u001b[38;5;241;43m.\u001b[39;49m\u001b[43mperform_request\u001b[49m\u001b[43m(\u001b[49m\n\u001b[1;32m    382\u001b[0m \u001b[43m        \u001b[49m\u001b[43mmethod\u001b[49m\u001b[43m,\u001b[49m\n\u001b[1;32m    383\u001b[0m \u001b[43m        \u001b[49m\u001b[43murl\u001b[49m\u001b[43m,\u001b[49m\n\u001b[1;32m    384\u001b[0m \u001b[43m        \u001b[49m\u001b[43mparams\u001b[49m\u001b[43m,\u001b[49m\n\u001b[1;32m    385\u001b[0m \u001b[43m        \u001b[49m\u001b[43mbody\u001b[49m\u001b[43m,\u001b[49m\n\u001b[1;32m    386\u001b[0m \u001b[43m        \u001b[49m\u001b[43mheaders\u001b[49m\u001b[38;5;241;43m=\u001b[39;49m\u001b[43mheaders\u001b[49m\u001b[43m,\u001b[49m\n\u001b[1;32m    387\u001b[0m \u001b[43m        \u001b[49m\u001b[43mignore\u001b[49m\u001b[38;5;241;43m=\u001b[39;49m\u001b[43mignore\u001b[49m\u001b[43m,\u001b[49m\n\u001b[1;32m    388\u001b[0m \u001b[43m        \u001b[49m\u001b[43mtimeout\u001b[49m\u001b[38;5;241;43m=\u001b[39;49m\u001b[43mtimeout\u001b[49m\u001b[43m,\u001b[49m\n\u001b[1;32m    389\u001b[0m \u001b[43m    \u001b[49m\u001b[43m)\u001b[49m\n\u001b[1;32m    391\u001b[0m \u001b[38;5;28;01mexcept\u001b[39;00m TransportError \u001b[38;5;28;01mas\u001b[39;00m e:\n\u001b[1;32m    392\u001b[0m     \u001b[38;5;28;01mif\u001b[39;00m method \u001b[38;5;241m==\u001b[39m \u001b[38;5;124m\"\u001b[39m\u001b[38;5;124mHEAD\u001b[39m\u001b[38;5;124m\"\u001b[39m \u001b[38;5;129;01mand\u001b[39;00m e\u001b[38;5;241m.\u001b[39mstatus_code \u001b[38;5;241m==\u001b[39m \u001b[38;5;241m404\u001b[39m:\n",
      "File \u001b[0;32m/opt/conda/lib/python3.8/site-packages/elasticsearch/connection/http_urllib3.py:275\u001b[0m, in \u001b[0;36mUrllib3HttpConnection.perform_request\u001b[0;34m(self, method, url, params, body, timeout, ignore, headers)\u001b[0m\n\u001b[1;32m    271\u001b[0m \u001b[38;5;28;01mif\u001b[39;00m \u001b[38;5;129;01mnot\u001b[39;00m (\u001b[38;5;241m200\u001b[39m \u001b[38;5;241m<\u001b[39m\u001b[38;5;241m=\u001b[39m response\u001b[38;5;241m.\u001b[39mstatus \u001b[38;5;241m<\u001b[39m \u001b[38;5;241m300\u001b[39m) \u001b[38;5;129;01mand\u001b[39;00m response\u001b[38;5;241m.\u001b[39mstatus \u001b[38;5;129;01mnot\u001b[39;00m \u001b[38;5;129;01min\u001b[39;00m ignore:\n\u001b[1;32m    272\u001b[0m     \u001b[38;5;28mself\u001b[39m\u001b[38;5;241m.\u001b[39mlog_request_fail(\n\u001b[1;32m    273\u001b[0m         method, full_url, url, orig_body, duration, response\u001b[38;5;241m.\u001b[39mstatus, raw_data\n\u001b[1;32m    274\u001b[0m     )\n\u001b[0;32m--> 275\u001b[0m     \u001b[38;5;28;43mself\u001b[39;49m\u001b[38;5;241;43m.\u001b[39;49m\u001b[43m_raise_error\u001b[49m\u001b[43m(\u001b[49m\u001b[43mresponse\u001b[49m\u001b[38;5;241;43m.\u001b[39;49m\u001b[43mstatus\u001b[49m\u001b[43m,\u001b[49m\u001b[43m \u001b[49m\u001b[43mraw_data\u001b[49m\u001b[43m)\u001b[49m\n\u001b[1;32m    277\u001b[0m \u001b[38;5;28mself\u001b[39m\u001b[38;5;241m.\u001b[39mlog_request_success(\n\u001b[1;32m    278\u001b[0m     method, full_url, url, orig_body, response\u001b[38;5;241m.\u001b[39mstatus, raw_data, duration\n\u001b[1;32m    279\u001b[0m )\n\u001b[1;32m    281\u001b[0m \u001b[38;5;28;01mreturn\u001b[39;00m response\u001b[38;5;241m.\u001b[39mstatus, response\u001b[38;5;241m.\u001b[39mgetheaders(), raw_data\n",
      "File \u001b[0;32m/opt/conda/lib/python3.8/site-packages/elasticsearch/connection/base.py:330\u001b[0m, in \u001b[0;36mConnection._raise_error\u001b[0;34m(self, status_code, raw_data)\u001b[0m\n\u001b[1;32m    327\u001b[0m \u001b[38;5;28;01mexcept\u001b[39;00m (\u001b[38;5;167;01mValueError\u001b[39;00m, \u001b[38;5;167;01mTypeError\u001b[39;00m) \u001b[38;5;28;01mas\u001b[39;00m err:\n\u001b[1;32m    328\u001b[0m     logger\u001b[38;5;241m.\u001b[39mwarning(\u001b[38;5;124m\"\u001b[39m\u001b[38;5;124mUndecodable raw error response from server: \u001b[39m\u001b[38;5;132;01m%s\u001b[39;00m\u001b[38;5;124m\"\u001b[39m, err)\n\u001b[0;32m--> 330\u001b[0m \u001b[38;5;28;01mraise\u001b[39;00m HTTP_EXCEPTIONS\u001b[38;5;241m.\u001b[39mget(status_code, TransportError)(\n\u001b[1;32m    331\u001b[0m     status_code, error_message, additional_info\n\u001b[1;32m    332\u001b[0m )\n",
      "\u001b[0;31mNotFoundError\u001b[0m: NotFoundError(404, '{\"_index\":\"wiki-sample\",\"_type\":\"_doc\",\"_id\":\"0\",\"found\":false}')"
     ]
    }
   ],
   "source": [
    "doc = es.get(index=INDEX_NAME, id=0)\n",
    "pprint(doc)"
   ]
  },
  {
   "cell_type": "markdown",
   "metadata": {},
   "source": [
    "## 8. Term vector 확인"
   ]
  },
  {
   "cell_type": "code",
   "execution_count": 27,
   "metadata": {},
   "outputs": [],
   "source": [
    "# 출력문이 기니까 pprint() 주석 풀고 한 번 확인해보세용\n",
    "\n",
    "tv = es.termvectors(index=INDEX_NAME, id=1, body={\"fields\" : [\"document_text\"]})\n",
    "# pprint(tv)"
   ]
  },
  {
   "cell_type": "markdown",
   "metadata": {},
   "source": [
    "## 9. 검색"
   ]
  },
  {
   "cell_type": "code",
   "execution_count": 1,
   "metadata": {},
   "outputs": [
    {
     "ename": "NameError",
     "evalue": "name 'es' is not defined",
     "output_type": "error",
     "traceback": [
      "\u001b[0;31m---------------------------------------------------------------------------\u001b[0m",
      "\u001b[0;31mNameError\u001b[0m                                 Traceback (most recent call last)",
      "Input \u001b[0;32mIn [1]\u001b[0m, in \u001b[0;36m<cell line: 2>\u001b[0;34m()\u001b[0m\n\u001b[1;32m      1\u001b[0m query \u001b[38;5;241m=\u001b[39m \u001b[38;5;124m\"\u001b[39m\u001b[38;5;124m주기표는 무엇인가?\u001b[39m\u001b[38;5;124m\"\u001b[39m\n\u001b[0;32m----> 2\u001b[0m query_res \u001b[38;5;241m=\u001b[39m \u001b[43mes\u001b[49m\u001b[38;5;241m.\u001b[39mindices\u001b[38;5;241m.\u001b[39manalyze(index\u001b[38;5;241m=\u001b[39mINDEX_NAME,\n\u001b[1;32m      3\u001b[0m                                  body\u001b[38;5;241m=\u001b[39m{\n\u001b[1;32m      4\u001b[0m                                        \u001b[38;5;124m\"\u001b[39m\u001b[38;5;124manalyzer\u001b[39m\u001b[38;5;124m\"\u001b[39m : \u001b[38;5;124m\"\u001b[39m\u001b[38;5;124mmy_analyzer\u001b[39m\u001b[38;5;124m\"\u001b[39m,\n\u001b[1;32m      5\u001b[0m                                         \u001b[38;5;124m\"\u001b[39m\u001b[38;5;124mtext\u001b[39m\u001b[38;5;124m\"\u001b[39m : query\n\u001b[1;32m      6\u001b[0m                                  }\n\u001b[1;32m      7\u001b[0m                         )\n\u001b[1;32m      8\u001b[0m pprint(query_res)\n",
      "\u001b[0;31mNameError\u001b[0m: name 'es' is not defined"
     ]
    }
   ],
   "source": [
    "query = \"주기표는 무엇인가?\"\n",
    "query_res = es.indices.analyze(index=INDEX_NAME,\n",
    "                                 body={\n",
    "                                       \"analyzer\" : \"my_analyzer\",\n",
    "                                        \"text\" : query\n",
    "                                 }\n",
    "                        )\n",
    "pprint(query_res)"
   ]
  },
  {
   "cell_type": "code",
   "execution_count": 34,
   "metadata": {},
   "outputs": [
    {
     "name": "stdout",
     "output_type": "stream",
     "text": [
      "{'_shards': {'failed': 0, 'skipped': 0, 'successful': 1, 'total': 1},\n",
      " 'hits': {'hits': [{'_id': '9',\n",
      "                    '_index': 'wiki-sample',\n",
      "                    '_score': 8.72252,\n",
      "                    '_source': {'document_text': '주기율표(週期律表, 주기률표, periodic '\n",
      "                                                 'table) 또는 주기표(週期表)는 원소를 구분하기 '\n",
      "                                                 '쉽게 성질에 따라 배열한 표로, 러시아의 드미트리 '\n",
      "                                                 '멘델레예프가 처음 제안했다. 1913년 헨리 '\n",
      "                                                 '모즐리는 멘델레예프의 주기율표를 개량시켜서 '\n",
      "                                                 '원자번호순으로 배열했는데, 이는 현대의 원소 '\n",
      "                                                 '주기율표와 유사하다. 가장 많이 쓰이는 주기율표에는 '\n",
      "                                                 '단주기형과 장주기형이 있다. 단주기형 주기율표는 '\n",
      "                                                 '1주기와 3주기를 기준으로 하고, 4주기 아래로는 '\n",
      "                                                 '전형원소와 전이원소가 같은 칸에 있다. 이 단주기형 '\n",
      "                                                 '주기율표는 초기에 쓴 모델로 원자가 많이 알려지지 '\n",
      "                                                 '않았을 때 많이 사용하였다. 장주기형 주기율표는 '\n",
      "                                                 '현재 가장 많이 쓰고 있는 주기율표이다.'},\n",
      "                    '_type': '_doc'},\n",
      "                   {'_id': '2',\n",
      "                    '_index': 'wiki-sample',\n",
      "                    '_score': 1.718111,\n",
      "                    '_source': {'document_text': '현 서울특별시 종로구 서린동 (구 일제 강점기 '\n",
      "                                                 '경기도 경성부 서린정) 출신이다. 친일파인 아버지 '\n",
      "                                                 '백낙승과 어머니 조종희 사이의 3남 2녀 중 막내로 '\n",
      "                                                 '태어났다. 그후 종로구 창신동 197번지 소위 '\n",
      "                                                 '큰대문집에서 18세까지 살았다. 수송국민학교와 '\n",
      "                                                 '경기제1고등보통학교를 다니면서 피아니스트 신재덕에게 '\n",
      "                                                 '피아노 연주를, 작이건우에게 작곡을 각각 배웠다. '\n",
      "                                                 '이때 한국이 낳은 작곡가 김순남을 사사했다. '\n",
      "                                                 '1949년 그는 홍콩 로이덴 스쿨로 전학했으며, '\n",
      "                                                 '한국 전쟁이 발발하기 이전 가족이 일본으로 '\n",
      "                                                 '이주했다. 그 후 일본으로 건너가 1952년 도쿄 '\n",
      "                                                 '대학교 문과부에 입학했다. 2년 후 미술사학 및 '\n",
      "                                                 '미학으로 전공을 정했지만, 실제로는 일본 당대의 '\n",
      "                                                 '작곡가 모로이 사부로, 미학자 노무라 요시오 '\n",
      "                                                 '등에게서 작곡과, 음악사학을 공부했다. 졸업 논문은 '\n",
      "                                                 '‘아르놀트 쇤베르크 연구’이다. 1956년 백남준은 '\n",
      "                                                 '졸업과 함께 독일로 유학을 떠나 뮌헨 대학교 및 '\n",
      "                                                 '쾰른 대학교 등에서 서양의 건축, 음악사, 철학 '\n",
      "                                                 '등을 공부하였다. 뮌헨 대학교 입학 1년 후에는 '\n",
      "                                                 '프라이부르크 국립 음악 대학교로 옮겨 볼프강 '\n",
      "                                                 '포르트너 교수에게 배우지만, 곧 쇤베르크 이후 '\n",
      "                                                 '현대음악의 실험이 활발히 진행되던 다름슈타트 하기 '\n",
      "                                                 '강좌에 참여했다. 1958년 그 곳에서 현대음악가 '\n",
      "                                                 '존 케이지를 만나 그의 음악에 대한 파괴적 접근과 '\n",
      "                                                 '자유정신으로부터 깊은 영감을 얻었다. 이 영감은 '\n",
      "                                                 '세계의 역사는 우리에게 알려준다. 주어진 게임에서 '\n",
      "                                                 '이길 수 없다면 규칙을 바꿔라 라는 것으로 '\n",
      "                                                 '규정된다. 이후 1950년대부터 활발해지기 시작한 '\n",
      "                                                 '독일 라인 지역의 액션뮤직의 현장에서 백남준은 '\n",
      "                                                 '‘아시아에서 온 문화테러리스트’(앨런 카프로)라고 '\n",
      "                                                 '불릴 정도의 탁월한 퍼포먼스 아티스트로 활약했다. '\n",
      "                                                 '1959년 ‘존 케이지에게 보내는 경의’에서 음악적 '\n",
      "                                                 '콜라주와 함께 피아노를 부수는 퍼포먼스를 선보이는 '\n",
      "                                                 '것을 시작으로, 바이올린을 단숨에 '\n",
      "                                                 '파괴하거나(바이올린 솔로) 존 케이지가 착용한 '\n",
      "                                                 '넥타이를 잘라버리는 퍼포먼스(피아노 포르테를 위한 '\n",
      "                                                 '연습곡)가 특히 유명하다. 이 초기 퍼포먼스에 대해 '\n",
      "                                                 '백남준은 스스로 충격, 표현주의, 낭만주의, '\n",
      "                                                 '클라이맥스, 놀라움, 기타 등등을 보여준 것이라고 '\n",
      "                                                 '표현한 바 있다. 1961년 카를하인츠 '\n",
      "                                                 '슈토크하우젠의 음악 퍼포먼스 ‘오리기날레’에서 '\n",
      "                                                 '머리와 넥타이로 잉크를 묻혀 두루마리에 흔적을 '\n",
      "                                                 '남기는 독특한 퍼포먼스 심플 머리를 위한 선율을 '\n",
      "                                                 '보여주기도 했다. 1960년대 초반 조지 '\n",
      "                                                 '마키우나스, 요셉 보이스 등과 의기투합하여 플럭서스 '\n",
      "                                                 '활동을 함께 전개했다. 다다이즘에 영향을 받은 '\n",
      "                                                 '플럭서스는 헤라클레이투스가 주장한 ‘변화 생성의 '\n",
      "                                                 '흐름’ 이라는 개념을 받아들여 목적이 없는 자유, '\n",
      "                                                 '실험을 위한 실험이라는 명목 하에 이벤트와 퍼포먼스 '\n",
      "                                                 '그리고 전위음악에 주력했고, 곧 유럽과 아시아 및 '\n",
      "                                                 '미국 등 세계로 퍼져나갔다. 1961년 백남준은 '\n",
      "                                                 '작곡가 슈토크하우젠이 중심이 된 쾰른의 WDR '\n",
      "                                                 '전자음악 스튜디오에 출입했으며, 이때 '\n",
      "                                                 '1950년대부터 노버트 위너에 의해 제안된 '\n",
      "                                                 \"'사이버네틱스' 개념 하에서 전자공학을 공부한 \"\n",
      "                                                 '것으로 알려져 있다. 특히 레이다와 TV 작업에 '\n",
      "                                                 '몰두했던 독일 작가 칼 오토 괴츠의 실패를 거울 '\n",
      "                                                 '삼아서 2년여 동안 홀로 TV를 활용한 미디어 '\n",
      "                                                 '아트로서의 가능성을 탐문하고 실험했다. 그 성과를 '\n",
      "                                                 '바탕으로 1963년 독일 부퍼탈 파르나스 갤러리에서 '\n",
      "                                                 '자신의 첫 번째 전시 ‘음악의 전시-전자 '\n",
      "                                                 '텔레비전’을 열었으며, 13대의 실험적인 TV를 '\n",
      "                                                 '통해 훗날 비디오 아트라고 불리게 되는 초기 형태를 '\n",
      "                                                 '보여주었다. 이 전시는 백남준이 자신의 즉흥음악 '\n",
      "                                                 '또는 무음악의 발상에 기초한 실제 퍼포먼스, 그 '\n",
      "                                                 '흔적과 결과물처럼 유럽에서 자신이 진행해온 작업의 '\n",
      "                                                 '성과와 함께 TV를 비롯한 미디어로 새로운 예술의 '\n",
      "                                                 '형태를 시도하는 작업이 공존하고 있었다. ‘적분된 '\n",
      "                                                 '피아노’, ‘랜덤 액세스 뮤직’, ‘레코드 '\n",
      "                                                 '샤슐릭’같은 20세기 전위음악에 젖줄을 대고 있는 '\n",
      "                                                 '실험적 음악의 시도와 ‘잘린 소머리’, ‘파괴된 '\n",
      "                                                 '누드 마네킹’, ‘보이스의 피아노 파괴 '\n",
      "                                                 \"퍼포먼스’'걸음을 위한 선' '바람을 위한 선' \"\n",
      "                                                 '같은 우상파괴적 설치 작업 및 참여예술 형태의 '\n",
      "                                                 '퍼포먼스가 함께 펼쳐졌다. 청년 백남준은 이러한 '\n",
      "                                                 '전시 내용을 ‘동시성’, ‘참여’, ‘임의접속’ '\n",
      "                                                 '등등에 관한 16개의 테마로써 정리하는 종합적인 '\n",
      "                                                 '큐레이팅 전시로 보여주었기 때문에 '\n",
      "                                                 '최근날짜2015-5-9 독일, 오스트리아 등지의 '\n",
      "                                                 '연구자들 사이에서 이 전시의 중요성을 재평가하면서 '\n",
      "                                                 '아카이빙 작업과 연구가 점차 활발해지는 추세에 '\n",
      "                                                 \"있다. 1964년 백남준은 일본으로 건너가 '로봇 \"\n",
      "                                                 \"K-456'을 제작했으며, 곧 세계 예술의 중심지 \"\n",
      "                                                 '뉴욕으로 이주했다. 뉴욕 언더그라운드 필름 운동의 '\n",
      "                                                 '중심지 중 하나였던 시네마테크 필름메이커스에 '\n",
      "                                                 '관여했으며, 스스로 영상 작업을 진행하기도 했다. '\n",
      "                                                 '1965년 소니의 포타팩(세계 최초의 휴대용 '\n",
      "                                                 '비디오카메라)으로 미국 뉴욕을 첫 방문 중이던 교황 '\n",
      "                                                 '요한 바오로 6세를 촬영하여 곧바로 그 영상을 '\n",
      "                                                 '‘카페 오 고고’에서 방영했다. 이것이 미술사에서는 '\n",
      "                                                 '한동안 공식적인 비디오 아트의 시작으로 기록되어 '\n",
      "                                                 '있었다. 지금은 1963년 첫번째 전시를 '\n",
      "                                                 '비디오아트의 기점으로 보고 있다. 또한 첼로 '\n",
      "                                                 '연주자이자 뉴욕 아방가르드 페스티벌의 기획자였던 '\n",
      "                                                 '샬럿 무어먼과 함께 비디오 아트와 음악을 혼합한 '\n",
      "                                                 '퍼포먼스 작업을 활발히 펼쳤다. 특히 1967년 '\n",
      "                                                 '음악에 성적인 코드를 집어넣은 백남준의 ‘오페라 '\n",
      "                                                 '섹스트로니크’에서 샬럿 무어먼은 누드 상태의 첼로 '\n",
      "                                                 '연주를 시도하다가 뉴욕 경찰에 체포되어 큰 사회적 '\n",
      "                                                 '파장을 불러일으켰다. 그 결과로 인해 예술 현장에서 '\n",
      "                                                 '누드를 처벌할 수 없다는 뉴욕의 법 개정이 '\n",
      "                                                 '이루어지는 획기적인 진전이 일어난다. 이후에도 '\n",
      "                                                 '미디어 아트가 미국 뉴욕을 중심으로 서서히 '\n",
      "                                                 '득세해가는 시대적 조류 속에서 두 사람은 ‘살아있는 '\n",
      "                                                 '조각을 위한 TV 브라’, ‘TV 첼로’, ‘TV '\n",
      "                                                 '침대’ 등등 미디어 테크놀로지와 퍼포먼스를 결합한 '\n",
      "                                                 '많은 예술활동을 전개했다. 1974년부터 백남준은 '\n",
      "                                                 '영상으로서의 비디오 아트를 새로운 미술적 방법인 '\n",
      "                                                 '설치 미술로 변환하여 다양하게 진행했으며, 그에 '\n",
      "                                                 '따라 ‘TV 붓다’, ‘달은 가장 오래된 TV다’, '\n",
      "                                                 '‘TV 정원’, ‘TV 물고기’ 등등 많은 대표작을 '\n",
      "                                                 '선보였다. 이 작품들은 비디오 아트와 생명의 상징을 '\n",
      "                                                 '전자적으로 결합하여 테크놀로지로 물든 현대 사회의 '\n",
      "                                                 '새로운 합성적 생명력을 추구했다는 평판을 얻었다. '\n",
      "                                                 \"특히 'TV 붓다'는 그의 초기 비디오 설치의 \"\n",
      "                                                 '경향을 잘 보여주는 대표작으로서 가장 널리 '\n",
      "                                                 '알려졌다. 1960년대 후반부터 미국의 문화적 '\n",
      "                                                 '환경이 미디어 테크놀로지에 호의적으로 변화하면서 '\n",
      "                                                 '폭발적인 수준의 미디어 전시가 빈발했고, 백남준의 '\n",
      "                                                 '비디오 아트는 그룹전 형태로 수많은 전시에 활발하게 '\n",
      "                                                 '참여했다. 1974년 뉴욕 에버슨 미술관 개인전과 '\n",
      "                                                 '함께 비데아 앤 비디올로지: 1959-1973이라는 '\n",
      "                                                 '예술과 기술을 교차시키는 하이브리드에 관한 저작을 '\n",
      "                                                 '내놓아 미디아 아트의 이해를 도왔으며, 1982년 '\n",
      "                                                 '뉴욕 휘트니 미술관에서 개최된 ‘백남준 회고전’을 '\n",
      "                                                 '통해 그의 예술 세계가 뉴욕을 중심으로 미국 사회에 '\n",
      "                                                 '많이 알려지는 계기가 되었다. 1970년대 '\n",
      "                                                 '중반부터는 뉴욕 WNET 방송국, 보스턴 WGBH '\n",
      "                                                 '방송국과 협력하여 자신의 비디오 아트를 공중파 '\n",
      "                                                 'TV에서 방송했고, 이는 네트워크 방송을 끌어들여 '\n",
      "                                                 '예술 세계의 영역 확장을 꾀한 놀라운 시도였다. '\n",
      "                                                 '나아가 1984년 1월 1일 ‘굿모닝 미스터 '\n",
      "                                                 '오웰’은 세계적인 아티스트들의 퍼포먼스를 뉴욕 '\n",
      "                                                 'WNET 방송국과 파리 퐁피두 센터를 연결한 실시간 '\n",
      "                                                 '위성 생중계로 방송하여 전 세계적 반향을 '\n",
      "                                                 '불러일으켰다. 샌프란시스코와 서울까지 연결된 이 '\n",
      "                                                 '국제적인 규모의 위성 아트에는 로리 앤더슨, 피터 '\n",
      "                                                 '가브리엘, 오잉고 보잉고, 존 케이지, 요셉 '\n",
      "                                                 '보이스, 앨런 긴즈버그, 이브 몽탕 등의 예술가과 '\n",
      "                                                 '대중문화의 스타가 다수 참여했으며, 전 세계 2천 '\n",
      "                                                 '5백만명(재방송 포함)이 시청하였다. 이로써 '\n",
      "                                                 '전세계적인 차원의 대중적 각인이 이루어졌고, 마치 '\n",
      "                                                 '대중스타처럼 성가를 높였다. 이후에도 ‘위성 아트’ '\n",
      "                                                 '3부작으로 명명된 ‘바이 바이 키플링’(1986), '\n",
      "                                                 '‘손에 손잡고’(1988) 등이 이어져 위성 연결을 '\n",
      "                                                 '통한 전세계의 네트워크가 어떻게 새로운 부족사회를 '\n",
      "                                                 '낳는지 실감시켰다. 1984년 일본 도쿄 '\n",
      "                                                 '소게쓰草月홀에서 백남준과 요셉 보이스가 공동으로 '\n",
      "                                                 \"참여한 퍼포먼스 '코요테 콘서트 II'가 \"\n",
      "                                                 '펼쳐졌으며, 이들이 각각 몽골의 늑대 울음소리와 '\n",
      "                                                 '초원의 달빛을 음악적으로 표현한 것을 통해 '\n",
      "                                                 '1961년 첫 만남부터 계속 이어온 공동의 관심사가 '\n",
      "                                                 '무엇인지 알려지기 시작했다. 그러나 이들의 이후 '\n",
      "                                                 '퍼포먼스 계획은 요셉 보이스의 죽음과 함께 미완으로 '\n",
      "                                                 \"끝났다. 1992년 '비디오 때, 비디오 땅' \"\n",
      "                                                 '전시는 독일 쿤스트 할레와 스위스 쮜리히에서 진행된 '\n",
      "                                                 '전시의 서울 투어전시로서 당시 과천 막계동에 '\n",
      "                                                 '자리잡은 지 몇 년 되지 않았던 국립현대미술관 '\n",
      "                                                 '과천관에 총 관람 인원 20만명이 찾은 첫번째 '\n",
      "                                                 \"전시로 기록되었다. 이 전시의 주요한 작품은 '나의 \"\n",
      "                                                 \"파우스트' 시리즈이다. 1993년 백남준은 독일 \"\n",
      "                                                 '작가 한스 하케와 함께 베니스 비엔날레 독일관 '\n",
      "                                                 '작가로 초대되어 국가전시관 부문에서 황금사자상을 '\n",
      "                                                 \"수상했다. '문명의 동서남북'이라는 주제의 이 \"\n",
      "                                                 '전시에서 그는 북방 유라시아의 유목 문화를 배경으로 '\n",
      "                                                 '전자적 소통을 시도하는 비디오 로봇 '\n",
      "                                                 '형태의‘칭기스칸의 복권’, ‘마르크폴로’, ‘훈족의 '\n",
      "                                                 '왕 아틸라’,‘스키타이의 왕 단군’, ‘로봇 '\n",
      "                                                 '전사’, ‘고대기마인물상’ 같은 작품들을 중심으로 '\n",
      "                                                 '다수의 작품을 내놓았다. 1995년 백남준은 제1회 '\n",
      "                                                 '광주 비엔날레 태동의 산파 역할을 하며, 한국 '\n",
      "                                                 '미술이 국제적으로 진출할 수 있도록 조력자 역할을 '\n",
      "                                                 '수행했다. 제1회 광주 비엔날레는 국내외 총 '\n",
      "                                                 '관람객이 160만 명에 달하는 성공을 거두었고, '\n",
      "                                                 '특히 백남준이 직접 관여한 ‘INFO Art’전이 '\n",
      "                                                 '주목받았다. 또한 백남준은 같은 해 베니스 비엔날레 '\n",
      "                                                 '국가전시관 부문에 한국관을 설치하는 일에 결정적인 '\n",
      "                                                 '역할을 했다. 이로써 한국 미술이 세계 미술계에 '\n",
      "                                                 '진출하는 교두보가 마련되었다고 하겠다. 같은 해 '\n",
      "                                                 '그의 예술적 정수가 담긴 일렉트로닉 수퍼하이웨이 '\n",
      "                                                 '전시를 진행했다. 1996년 4월 9일 뇌졸중으로 '\n",
      "                                                 '쓰러졌으며, 6개월만인 그해 10월에 재기했다. '\n",
      "                                                 '2000년 뉴욕 구겐하임 미술관에서 ‘백남준의 '\n",
      "                                                 '세계’ 라는 대규모 회고전이 열렸으며, 이때 '\n",
      "                                                 '백남준은 레이저 아트 ‘야곱의 사다리’, ‘삼원소’ '\n",
      "                                                 '등을 전시한 바 있다. 2006년 1월 29일, '\n",
      "                                                 '미국 마이애미의 자택에서 노환으로 75세로 별세, '\n",
      "                                                 '유해가 서울, 뉴욕, 독일에 나눠서 안치되었다.'},\n",
      "                    '_type': '_doc'},\n",
      "                   {'_id': '1',\n",
      "                    '_index': 'wiki-sample',\n",
      "                    '_score': 1.6852114,\n",
      "                    '_source': {'document_text': '이 목록에 실린 국가 기준은 1933년 몬테비데오 '\n",
      "                                                 '협약 1장을 참고로 하였다. 협정에 따르면, 국가는 '\n",
      "                                                 '다음의 조건을 만족해야 한다. (a) 영속적인 국민 '\n",
      "                                                 '(b) 일정한 영토 (c) 정부 (d) 타국과의 '\n",
      "                                                 '관계 참여 자격. 특히, 마지막 조건은 국제 '\n",
      "                                                 '공동체의 참여 용인을 내포하고 있기 때문에, 다른 '\n",
      "                                                 '나라의 승인이 매우 중요한 역할을 할 수 있다. 이 '\n",
      "                                                 '목록에 포함된 모든 국가는 보통 이 기준을 만족하는 '\n",
      "                                                 '것으로 보이는 자주적이고 독립적인 국가이다. 하지만 '\n",
      "                                                 '몬테비데오 협약 기준을 만족하는지의 여부는 많은 '\n",
      "                                                 '국가가 논쟁이 되고 있는 실정이다. 또한, '\n",
      "                                                 '몬테비데오 협약 기준만이 국가 지위의 충분한 '\n",
      "                                                 '자격이든 아니든, 국제법의 견해 차이는 존재할 수 '\n",
      "                                                 '있다. 이 물음에 대한 다른 이론에 대한 고리는 '\n",
      "                                                 '아래에서 볼 수 있다. 위 기준에 논거하여 이 '\n",
      "                                                 '목록은 다음 206개 국가를 포함하고 있다. 일반 '\n",
      "                                                 '국제 승인을 받은 195개 자주 국가. 유엔 가입 '\n",
      "                                                 '국가 193개 성좌의 명칭으로 유엔에서 국제 승인을 '\n",
      "                                                 '받은 국가: 바티칸 시국 팔레스타인지역에 위치하며 '\n",
      "                                                 '유엔 영구 옵서버 국가: 팔레스타인 유엔의 가입국이 '\n",
      "                                                 '아니며, 일반 국제 승인을 받지 않은 11개 자주 '\n",
      "                                                 '국가. 유엔 회원국으로부터 승인을 받은 8개 국가: '\n",
      "                                                 '남오세티야, 니우에, 북키프로스 튀르크 공화국, '\n",
      "                                                 '사하라 아랍 민주 공화국, 압하지야, 중화민국, '\n",
      "                                                 '코소보, 쿡 제도, 유엔 비회원국으로부터 승인을 '\n",
      "                                                 '받은 2개 국가: 아르차흐 공화국, 트란스니스트리아 '\n",
      "                                                 '어떤 나라에서도 승인 받지 않은 국가: 소말릴란드 '\n",
      "                                                 '위 목록에 포함되지 않은 다음 국가는 몬테비데오 '\n",
      "                                                 '협약의 모든 조건을 만족하지 못하거나, 자주적이고 '\n",
      "                                                 '독립적임을 주장하지 않는 국가이다. 남극 대륙 '\n",
      "                                                 '전체는 정부와 영속 인구가 없다. 7개 국가가 남극 '\n",
      "                                                 '대륙 일부를 차지하고 있으며, 이중 5개 국가가 '\n",
      "                                                 '서로의 영유권을 인정하고 있다. 남극 조약에 따라서 '\n",
      "                                                 '규제되는 이 권리는 어떤 나라에서도 승인을 받지 '\n",
      "                                                 '않았다. EU 유럽 연합은 27개 가입 국가를 '\n",
      "                                                 '보유한 독특한 초국가 기구이다. 가입 국가는 '\n",
      "                                                 '입법권, 행정권, 사법권 기준을 유럽 연합 위원회로 '\n",
      "                                                 '이양하며, 유럽 연합은 엄밀히 말해 일반적인 주권 '\n",
      "                                                 '국가 간주와 관계 없이 주권 국가로의 특징을 가지고 '\n",
      "                                                 '있다. 유럽 연합은 주권 국가를 주장하지 않으며, '\n",
      "                                                 '다른 나라와의 관계에서 제한된 지위를 가지고 있다. '\n",
      "                                                 '미국과 오스트레일리아, 기타 국가에서 주 '\n",
      "                                                 '(State)라고 칭하는 행정 구역은 주 (행정 '\n",
      "                                                 '구역)을 참고하라. 이러한 하부 국가 개념의 행정 '\n",
      "                                                 '구역은 일부를 제외하고는 다른 나라와 관계를 '\n",
      "                                                 '형성하지 않는다. 예를 들어서 독일 제국의 주는 '\n",
      "                                                 '해외 영사관을 가졌으며, 소비에트 연방의 한 '\n",
      "                                                 '부분이었던 우크라이나 소비에트 사회주의 공화국 '\n",
      "                                                 '(현재의 우크라이나)과 벨로루시 소비에트 사회주의 '\n",
      "                                                 '공화국 (현재의 벨라루스)는 유엔 가입국이었다. '\n",
      "                                                 '무엇보다 중요한 것은, 이러한 주들은 자주적이고 '\n",
      "                                                 '독립적임을 주장하지 않는다는 것이다. 몰타 기사단 '\n",
      "                                                 '몰타 기사단은 총회에 유효 참관국 자격으로 참여할 '\n",
      "                                                 '수 있으며, 본부에서 영속적인 지위를 유지하는 기타 '\n",
      "                                                 '국가 분류에 속하는 유엔 참관 국가이다. 이 단체는 '\n",
      "                                                 '104개 국가와 쌍방 외교 관계를 맺고 있으나, '\n",
      "                                                 '로마 내의 치외 법권 영역 이외에는 일정한 영토가 '\n",
      "                                                 '없다. 단체의 웹사이트에서는 항상 국가에게 국제법의 '\n",
      "                                                 '독립 주체로 인정 받는다.고 선언하고 있다. '\n",
      "                                                 '기사단의 헌법 에서는 다음과 같이 설명하고 있다. '\n",
      "                                                 '기사단은 국제법의 주체이며, 주권 기능을 행사한다. '\n",
      "                                                 '기사단은 자주 주권을 주장하고 있지만, 이름에서 볼 '\n",
      "                                                 '수 있듯이 주권 국가라고 주장하지는 않는다. 다른 '\n",
      "                                                 '대사관처럼 이탈리아는 이론상 기사단과 외교 관계를 '\n",
      "                                                 '파기할 수 있으며, 이탈리아 국민이 아닌 단원을 '\n",
      "                                                 '이탈리아 영토에서 강제로 추방할 수 있다. 기사단의 '\n",
      "                                                 '단원은 모두 다른 나라의 국민이기 때문에, 사실상 '\n",
      "                                                 '이들은 모두 자신의 국가에서 살고 있으며, 로마에서 '\n",
      "                                                 '기사단의 치외 법권 영역에 거주하는 단원은 오직 '\n",
      "                                                 '공식 직무에만 연관하여 활동한다. 따라서, 기사단은 '\n",
      "                                                 '영속적인 국민의 특성이 부족하다고 볼 수 있다. '\n",
      "                                                 '마이크로네이션으로 여겨지는 국가는 자주적이고 '\n",
      "                                                 '독립적이라고 주장하고, 다른 나라와 외교 관계를 '\n",
      "                                                 '맺고자 시도하여도 포함하지 않았다. 마이크로네이션이 '\n",
      "                                                 '정말로 점유한 영토를 지배하는지, 마이크로네이션의 '\n",
      "                                                 \"'인구' 감소 빈도가 낮은 지의 여부는 논쟁이 되고 \"\n",
      "                                                 '있다. ISIS 등은 다른 나라들 못지 않은 영역을 '\n",
      "                                                 '두고 있으며 스스로를 나라라고 자처하지만, 국제법상 '\n",
      "                                                 '주권이 결여되어 있으며 국제법에 위배되는 테러리즘을 '\n",
      "                                                 \"일삼아 '나라'로 간주되지도 않는다. 다만 준국가로 \"\n",
      "                                                 '분류한다.'},\n",
      "                    '_type': '_doc'},\n",
      "                   {'_id': '5',\n",
      "                    '_index': 'wiki-sample',\n",
      "                    '_score': 0.19748284,\n",
      "                    '_source': {'document_text': '아오조라 문고는 자원봉사로 운영되며 열람 역시 '\n",
      "                                                 '무료이다. 서비스 개시 초반에는 보이저 사에서 '\n",
      "                                                 '서버를 제공하였다. 1998년부터 1999년까지는 '\n",
      "                                                 '토미타가 작업 수칙과 매뉴얼을 만들었다. 자원봉사로 '\n",
      "                                                 '운영되기 때문에 작품의 입력과 교정 역시 '\n",
      "                                                 '자원봉사자가 한다 입력은 원본을 보면서 타자입력이나 '\n",
      "                                                 '스캐너로 입력하는 방법으로 이뤄진다 또 작품을 '\n",
      "                                                 \"입력하는 '입력자'와 입력된 작품을 교정하는 \"\n",
      "                                                 \"'교정자'는 별도의 자원봉사자가 담당한다. 따라서 \"\n",
      "                                                 '작품이 공개되기 전까지는 작품을 입력한 뒤 교정자가 '\n",
      "                                                 \"교정을 예약할 때까지 '교정대기' (校正待)가 \"\n",
      "                                                 '되고, 작업을 멈추게 된다. 즉, 입력하는 '\n",
      "                                                 '자원봉사자가 작품을 입력해 교정을 맡은 자원봉사자가 '\n",
      "                                                 '교정예약을 해서, 교정작업을 완료하기 전까지는 '\n",
      "                                                 '작품을 공개할 수 없다. 때문에 입력이 완료되어도 '\n",
      "                                                 \"작업 상태가 '교정대기' 상태인 작품이 증가하고 \"\n",
      "                                                 '있다. 이는 입력에 비해 교정 작업이 부족하기 '\n",
      "                                                 '때문으로, 아오조라 문고 출범 당시부터 안고 있는 '\n",
      "                                                 '문제점이기도 하다. 이 문제에 대해서는 작품의 '\n",
      "                                                 '교정작업을 하지 않고 공개하는 방안과 입력자가 '\n",
      "                                                 '교정한 것도 인정하자는 방안이 제기된 적이 있지만 '\n",
      "                                                 '현재까지도 이 방안은 채택되지 못하고 있다 대신 '\n",
      "                                                 '2011년 12월 16일 공개분부터는 기부금을 '\n",
      "                                                 \"재원으로 삼은 '유상교정' 서비스가 진행되고 있다. \"\n",
      "                                                 '2013년 8월 아오조라 문고의 설립자인 토미타가 '\n",
      "                                                 '사망한 것을 계기로, 아오조라 문고에 지속적인 '\n",
      "                                                 \"지원을 해줄 '책의 미래 기금' (本未来基金)이 \"\n",
      "                                                 '설립됐다. 하지만 2015년부터는 엔지니어가 없는 '\n",
      "                                                 '상태로 서버를 강제로 돌리고 있으며, 서버 자체도 '\n",
      "                                                 '노후화되고 있다는 점이 문제되고 있다. 이 때문에 '\n",
      "                                                 \"2015년 5월 'Code for 아오조라 문고' \"\n",
      "                                                 '아이디어 송이 개최되어 향후 시스템 운용에 대한 '\n",
      "                                                 '의견 교환이 이뤄졌다. 그 이후에는 해당 모임을 '\n",
      "                                                 '바탕으로 시스템 관리와 코드수정 등을 맡는 '\n",
      "                                                 \"'aozorahack' 프로젝트가 진행되고 있다.\"},\n",
      "                    '_type': '_doc'},\n",
      "                   {'_id': '0',\n",
      "                    '_index': 'wiki-sample',\n",
      "                    '_score': 0.19515464,\n",
      "                    '_source': {'document_text': '이 문서는 나라 목록이며, 전 세계 206개 나라의 '\n",
      "                                                 '각 현황과 주권 승인 정보를 개요 형태로 나열하고 '\n",
      "                                                 '있다. 이 목록은 명료화를 위해 두 부분으로 나뉘어 '\n",
      "                                                 '있다. 첫 번째 부분은 바티칸 시국과 팔레스타인을 '\n",
      "                                                 '포함하여 유엔 등 국제 기구에 가입되어 국제적인 '\n",
      "                                                 '승인을 널리 받았다고 여기는 195개 나라를 '\n",
      "                                                 '나열하고 있다. 두 번째 부분은 일부 지역의 주권을 '\n",
      "                                                 '사실상 (데 팍토) 행사하고 있지만, 아직 국제적인 '\n",
      "                                                 '승인을 널리 받지 않았다고 여기는 11개 나라를 '\n",
      "                                                 '나열하고 있다. 두 목록은 모두 가나다 순이다. '\n",
      "                                                 '일부 국가의 경우 국가로서의 자격에 논쟁의 여부가 '\n",
      "                                                 '있으며, 이 때문에 이러한 목록을 엮는 것은 매우 '\n",
      "                                                 '어렵고 논란이 생길 수 있는 과정이다. 이 목록을 '\n",
      "                                                 '구성하고 있는 국가를 선정하는 기준에 대한 정보는 '\n",
      "                                                 '포함 기준 단락을 통해 설명하였다. 나라에 대한 '\n",
      "                                                 '일반적인 정보는 국가 문서에서 설명하고 있다.'},\n",
      "                    '_type': '_doc'}],\n",
      "          'max_score': 8.72252,\n",
      "          'total': {'relation': 'eq', 'value': 10}},\n",
      " 'timed_out': False,\n",
      " 'took': 1}\n"
     ]
    }
   ],
   "source": [
    "# topk=5로 retrieval\n",
    "\n",
    "query = \"주기표는 무엇인가?\"\n",
    "body = {\n",
    "        \"query\": {\n",
    "            \"bool\": {\n",
    "                \"must\": [{\"match\": {\"document_text\": query}}],\n",
    "            }\n",
    "        }\n",
    "    }\n",
    "\n",
    "res = es.search(index=INDEX_NAME, body=body, size=5)\n",
    "pprint(res)"
   ]
  },
  {
   "cell_type": "code",
   "execution_count": 35,
   "metadata": {},
   "outputs": [
    {
     "name": "stdout",
     "output_type": "stream",
     "text": [
      "Doc ID: '9'  Score:  8.72\n",
      "Doc ID: '2'  Score:  1.72\n",
      "Doc ID: '1'  Score:  1.69\n",
      "Doc ID: '5'  Score:  0.20\n",
      "Doc ID: '0'  Score:  0.20\n"
     ]
    }
   ],
   "source": [
    "# top5 문서 id, score 출력\n",
    "for hit in res['hits']['hits']:\n",
    "    print(\"Doc ID: %3r  Score: %5.2f\" % (hit['_id'], hit['_score']))\n"
   ]
  },
  {
   "cell_type": "code",
   "execution_count": null,
   "metadata": {},
   "outputs": [],
   "source": []
  }
 ],
 "metadata": {
  "kernelspec": {
   "display_name": "mrc",
   "language": "python",
   "name": "mrc"
  },
  "language_info": {
   "codemirror_mode": {
    "name": "ipython",
    "version": 3
   },
   "file_extension": ".py",
   "mimetype": "text/x-python",
   "name": "python",
   "nbconvert_exporter": "python",
   "pygments_lexer": "ipython3",
   "version": "3.8.5"
  }
 },
 "nbformat": 4,
 "nbformat_minor": 4
}
